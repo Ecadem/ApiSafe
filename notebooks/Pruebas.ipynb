{
 "cells": [
  {
   "attachments": {},
   "cell_type": "markdown",
   "id": "6ee8648d",
   "metadata": {},
   "source": [
    "# API Safe"
   ]
  },
  {
   "attachments": {},
   "cell_type": "markdown",
   "id": "b83e107a",
   "metadata": {},
   "source": [
    "#### Este notebook será usado para las pruebas del proyecto API Safe"
   ]
  },
  {
   "cell_type": "code",
   "execution_count": 2,
   "id": "92de206a",
   "metadata": {},
   "outputs": [],
   "source": [
    "import os\n",
    "from datetime import datetime, timedelta\n",
    "from typing import Union, Any\n",
    "from jose import jwt\n",
    "\n",
    "\n",
    "from passlib.context import CryptContext"
   ]
  },
  {
   "cell_type": "code",
   "execution_count": 4,
   "id": "deaa561e",
   "metadata": {},
   "outputs": [],
   "source": [
    "ACCESS_TOKEN_EXPIRE_MINUTES = 30  # 30 minutes\n",
    "REFRESH_TOKEN_EXPIRE_MINUTES = 60 * 24 * 7 # 7 days\n",
    "ALGORITHM = \"HS256\"\n",
    "JWT_SECRET_KEY = \"F358ACCC5DDE2598E6137F1F36EFD\"  # os.environ['JWT_SECRET_KEY'] should be kept secret\n",
    "JWT_REFRESH_SECRET_KEY = \"6B84CD41C2E6A81FDCBDBAEE441C6\" # os.environ['JWT_REFRESH_SECRET_KEY'] should be kept secret"
   ]
  },
  {
   "cell_type": "code",
   "execution_count": 3,
   "id": "e14f5d68",
   "metadata": {},
   "outputs": [],
   "source": [
    "password_context = CryptContext(schemes=[\"bcrypt\"], deprecated=\"auto\")\n",
    "\n",
    "\n",
    "def get_hashed_password(password: str) -> str:\n",
    "    return password_context.hash(password)\n",
    "\n",
    "\n",
    "def verify_password(password: str, hashed_pass: str) -> bool:\n",
    "    return password_context.verify(password, hashed_pass)"
   ]
  },
  {
   "cell_type": "code",
   "execution_count": 5,
   "id": "325bec7e",
   "metadata": {},
   "outputs": [],
   "source": [
    "def create_access_token(subject: Union[str, Any], expires_delta: int = None) -> str:\n",
    "    if expires_delta is not None:\n",
    "        expires_delta = datetime.utcnow() + expires_delta\n",
    "    else:\n",
    "        expires_delta = datetime.utcnow() + timedelta(minutes=ACCESS_TOKEN_EXPIRE_MINUTES)\n",
    "    \n",
    "    to_encode = {\"exp\": expires_delta, \"sub\": str(subject)}\n",
    "    encoded_jwt = jwt.encode(to_encode, JWT_SECRET_KEY, ALGORITHM)\n",
    "    return encoded_jwt\n",
    "\n",
    "def create_refresh_token(subject: Union[str, Any], expires_delta: int = None) -> str:\n",
    "    if expires_delta is not None:\n",
    "        expires_delta = datetime.utcnow() + expires_delta\n",
    "    else:\n",
    "        expires_delta = datetime.utcnow() + timedelta(minutes=REFRESH_TOKEN_EXPIRE_MINUTES)\n",
    "    \n",
    "    to_encode = {\"exp\": expires_delta, \"sub\": str(subject)}\n",
    "    encoded_jwt = jwt.encode(to_encode, JWT_REFRESH_SECRET_KEY, ALGORITHM)\n",
    "    return encoded_jwt"
   ]
  },
  {
   "cell_type": "code",
   "execution_count": null,
   "id": "bb072f84",
   "metadata": {},
   "outputs": [],
   "source": []
  },
  {
   "cell_type": "code",
   "execution_count": null,
   "id": "9616c1bb",
   "metadata": {},
   "outputs": [],
   "source": []
  },
  {
   "cell_type": "code",
   "execution_count": null,
   "id": "76cb9f1e",
   "metadata": {},
   "outputs": [],
   "source": []
  },
  {
   "cell_type": "code",
   "execution_count": null,
   "id": "c2f98f31",
   "metadata": {},
   "outputs": [],
   "source": []
  },
  {
   "cell_type": "code",
   "execution_count": null,
   "id": "2203fa0a",
   "metadata": {},
   "outputs": [],
   "source": []
  },
  {
   "cell_type": "code",
   "execution_count": null,
   "id": "44b5dcdf",
   "metadata": {},
   "outputs": [],
   "source": []
  },
  {
   "cell_type": "code",
   "execution_count": null,
   "id": "936ea5a1",
   "metadata": {},
   "outputs": [],
   "source": []
  },
  {
   "cell_type": "code",
   "execution_count": null,
   "id": "7554f3b4",
   "metadata": {},
   "outputs": [],
   "source": []
  },
  {
   "cell_type": "code",
   "execution_count": null,
   "id": "f0a57d21",
   "metadata": {},
   "outputs": [],
   "source": []
  },
  {
   "cell_type": "code",
   "execution_count": null,
   "id": "6c6d6543",
   "metadata": {},
   "outputs": [],
   "source": []
  },
  {
   "cell_type": "code",
   "execution_count": null,
   "id": "918aed83",
   "metadata": {},
   "outputs": [],
   "source": []
  },
  {
   "cell_type": "code",
   "execution_count": null,
   "id": "aef8e3de",
   "metadata": {},
   "outputs": [],
   "source": []
  },
  {
   "cell_type": "code",
   "execution_count": null,
   "id": "f6a152d1",
   "metadata": {},
   "outputs": [],
   "source": []
  },
  {
   "cell_type": "code",
   "execution_count": null,
   "id": "775cd57a",
   "metadata": {},
   "outputs": [],
   "source": []
  },
  {
   "cell_type": "code",
   "execution_count": null,
   "id": "92e80231",
   "metadata": {},
   "outputs": [],
   "source": []
  }
 ],
 "metadata": {
  "kernelspec": {
   "display_name": "Python 3 (ipykernel)",
   "language": "python",
   "name": "python3"
  },
  "language_info": {
   "codemirror_mode": {
    "name": "ipython",
    "version": 3
   },
   "file_extension": ".py",
   "mimetype": "text/x-python",
   "name": "python",
   "nbconvert_exporter": "python",
   "pygments_lexer": "ipython3",
   "version": "3.10.9"
  }
 },
 "nbformat": 4,
 "nbformat_minor": 5
}
